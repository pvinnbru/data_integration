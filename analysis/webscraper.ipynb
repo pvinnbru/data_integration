{
 "cells": [
  {
   "cell_type": "markdown",
   "metadata": {},
   "source": [
    "### Webscraper for necessary Data"
   ]
  },
  {
   "cell_type": "markdown",
   "metadata": {},
   "source": [
    "Webscraper, to collect all relevant dive spots data points"
   ]
  },
  {
   "cell_type": "code",
   "execution_count": 2,
   "metadata": {},
   "outputs": [
    {
     "name": "stderr",
     "output_type": "stream",
     "text": [
      "Scraping Page 1 : 100%|██████████| 20/20 [01:11<00:00,  3.56s/dive site]\n"
     ]
    },
    {
     "name": "stdout",
     "output_type": "stream",
     "text": [
      "Data from page 1 successfully saved.\n"
     ]
    },
    {
     "name": "stderr",
     "output_type": "stream",
     "text": [
      "Scraping Page 2 : 100%|██████████| 20/20 [01:05<00:00,  3.30s/dive site]\n"
     ]
    },
    {
     "name": "stdout",
     "output_type": "stream",
     "text": [
      "Data from page 2 successfully saved.\n"
     ]
    },
    {
     "name": "stderr",
     "output_type": "stream",
     "text": [
      "Scraping Page 3 :  65%|██████▌   | 13/20 [01:03<00:52,  7.48s/dive site]"
     ]
    },
    {
     "name": "stdout",
     "output_type": "stream",
     "text": [
      "Error retrieving data: Message: unknown error: net::ERR_NAME_NOT_RESOLVED\n",
      "  (Session info: chrome=130.0.6723.92)\n",
      "Stacktrace:\n",
      "\tGetHandleVerifier [0x00007FF744363B05+28005]\n",
      "\t(No symbol) [0x00007FF7442C8400]\n",
      "\t(No symbol) [0x00007FF74416580A]\n",
      "\t(No symbol) [0x00007FF744162F5F]\n",
      "\t(No symbol) [0x00007FF744153E49]\n",
      "\t(No symbol) [0x00007FF744155BE6]\n",
      "\t(No symbol) [0x00007FF74415410F]\n",
      "\t(No symbol) [0x00007FF7441539BD]\n",
      "\t(No symbol) [0x00007FF7441538DA]\n",
      "\t(No symbol) [0x00007FF74415151E]\n",
      "\t(No symbol) [0x00007FF744151DEC]\n",
      "\t(No symbol) [0x00007FF7441688AA]\n",
      "\t(No symbol) [0x00007FF7441FC6DE]\n",
      "\t(No symbol) [0x00007FF7441DBA3A]\n",
      "\t(No symbol) [0x00007FF7441FB8B3]\n",
      "\t(No symbol) [0x00007FF7441DB7E3]\n",
      "\t(No symbol) [0x00007FF7441A75C8]\n",
      "\t(No symbol) [0x00007FF7441A8731]\n",
      "\tGetHandleVerifier [0x00007FF74465647D+3118813]\n",
      "\tGetHandleVerifier [0x00007FF7446A6CD0+3448624]\n",
      "\tGetHandleVerifier [0x00007FF74469CF4D+3408301]\n",
      "\tGetHandleVerifier [0x00007FF74442A45B+841403]\n",
      "\t(No symbol) [0x00007FF7442D345F]\n",
      "\t(No symbol) [0x00007FF7442CF4D4]\n",
      "\t(No symbol) [0x00007FF7442CF66D]\n",
      "\t(No symbol) [0x00007FF7442BEBC9]\n",
      "\tBaseThreadInitThunk [0x00007FF93F24257D+29]\n",
      "\tRtlUserThreadStart [0x00007FF940A4AF08+40]\n",
      "\n"
     ]
    },
    {
     "name": "stderr",
     "output_type": "stream",
     "text": [
      "Scraping Page 3 : 100%|██████████| 20/20 [01:29<00:00,  4.48s/dive site]\n"
     ]
    },
    {
     "name": "stdout",
     "output_type": "stream",
     "text": [
      "Data from page 3 successfully saved.\n"
     ]
    },
    {
     "name": "stderr",
     "output_type": "stream",
     "text": [
      "Scraping Page 4 : 100%|██████████| 20/20 [01:19<00:00,  3.96s/dive site]\n"
     ]
    },
    {
     "name": "stdout",
     "output_type": "stream",
     "text": [
      "Data from page 4 successfully saved.\n"
     ]
    },
    {
     "name": "stderr",
     "output_type": "stream",
     "text": [
      "Scraping Page 5 : 100%|██████████| 20/20 [01:25<00:00,  4.27s/dive site]\n"
     ]
    },
    {
     "name": "stdout",
     "output_type": "stream",
     "text": [
      "Data from page 5 successfully saved.\n"
     ]
    },
    {
     "name": "stderr",
     "output_type": "stream",
     "text": [
      "Scraping Page 6 : 100%|██████████| 20/20 [01:30<00:00,  4.50s/dive site]\n"
     ]
    },
    {
     "name": "stdout",
     "output_type": "stream",
     "text": [
      "Data from page 6 successfully saved.\n"
     ]
    },
    {
     "name": "stderr",
     "output_type": "stream",
     "text": [
      "Scraping Page 7 : 100%|██████████| 20/20 [01:25<00:00,  4.29s/dive site]\n"
     ]
    },
    {
     "name": "stdout",
     "output_type": "stream",
     "text": [
      "Data from page 7 successfully saved.\n"
     ]
    },
    {
     "name": "stderr",
     "output_type": "stream",
     "text": [
      "Scraping Page 8 : 100%|██████████| 20/20 [01:14<00:00,  3.73s/dive site]\n"
     ]
    },
    {
     "name": "stdout",
     "output_type": "stream",
     "text": [
      "Data from page 8 successfully saved.\n"
     ]
    },
    {
     "name": "stderr",
     "output_type": "stream",
     "text": [
      "Scraping Page 9 : 100%|██████████| 20/20 [01:17<00:00,  3.86s/dive site]\n"
     ]
    },
    {
     "name": "stdout",
     "output_type": "stream",
     "text": [
      "Data from page 9 successfully saved.\n"
     ]
    },
    {
     "name": "stderr",
     "output_type": "stream",
     "text": [
      "Scraping Page 10 : 100%|██████████| 20/20 [01:14<00:00,  3.71s/dive site]\n"
     ]
    },
    {
     "name": "stdout",
     "output_type": "stream",
     "text": [
      "Data from page 10 successfully saved.\n"
     ]
    },
    {
     "name": "stderr",
     "output_type": "stream",
     "text": [
      "Scraping Page 11 : 100%|██████████| 20/20 [01:18<00:00,  3.91s/dive site]\n"
     ]
    },
    {
     "name": "stdout",
     "output_type": "stream",
     "text": [
      "Data from page 11 successfully saved.\n"
     ]
    },
    {
     "name": "stderr",
     "output_type": "stream",
     "text": [
      "Scraping Page 12 : 100%|██████████| 20/20 [01:15<00:00,  3.78s/dive site]\n"
     ]
    },
    {
     "name": "stdout",
     "output_type": "stream",
     "text": [
      "Data from page 12 successfully saved.\n"
     ]
    },
    {
     "name": "stderr",
     "output_type": "stream",
     "text": [
      "Scraping Page 13 : 100%|██████████| 20/20 [01:25<00:00,  4.25s/dive site]\n"
     ]
    },
    {
     "name": "stdout",
     "output_type": "stream",
     "text": [
      "Data from page 13 successfully saved.\n"
     ]
    },
    {
     "name": "stderr",
     "output_type": "stream",
     "text": [
      "Scraping Page 14 : 100%|██████████| 20/20 [01:21<00:00,  4.09s/dive site]\n"
     ]
    },
    {
     "name": "stdout",
     "output_type": "stream",
     "text": [
      "Data from page 14 successfully saved.\n"
     ]
    },
    {
     "name": "stderr",
     "output_type": "stream",
     "text": [
      "Scraping Page 15 : 100%|██████████| 20/20 [01:18<00:00,  3.95s/dive site]\n"
     ]
    },
    {
     "name": "stdout",
     "output_type": "stream",
     "text": [
      "Data from page 15 successfully saved.\n"
     ]
    },
    {
     "name": "stderr",
     "output_type": "stream",
     "text": [
      "Scraping Page 16 : 100%|██████████| 20/20 [01:20<00:00,  4.05s/dive site]\n"
     ]
    },
    {
     "name": "stdout",
     "output_type": "stream",
     "text": [
      "Data from page 16 successfully saved.\n"
     ]
    },
    {
     "name": "stderr",
     "output_type": "stream",
     "text": [
      "Scraping Page 17 : 100%|██████████| 20/20 [01:22<00:00,  4.11s/dive site]\n"
     ]
    },
    {
     "name": "stdout",
     "output_type": "stream",
     "text": [
      "Data from page 17 successfully saved.\n"
     ]
    },
    {
     "name": "stderr",
     "output_type": "stream",
     "text": [
      "Scraping Page 18 : 100%|██████████| 20/20 [01:29<00:00,  4.50s/dive site]\n"
     ]
    },
    {
     "name": "stdout",
     "output_type": "stream",
     "text": [
      "Data from page 18 successfully saved.\n"
     ]
    },
    {
     "name": "stderr",
     "output_type": "stream",
     "text": [
      "Scraping Page 19 : 100%|██████████| 20/20 [01:28<00:00,  4.44s/dive site]\n"
     ]
    },
    {
     "name": "stdout",
     "output_type": "stream",
     "text": [
      "Data from page 19 successfully saved.\n"
     ]
    },
    {
     "name": "stderr",
     "output_type": "stream",
     "text": [
      "Scraping Page 20 : 100%|██████████| 20/20 [01:10<00:00,  3.54s/dive site]\n"
     ]
    },
    {
     "name": "stdout",
     "output_type": "stream",
     "text": [
      "Data from page 20 successfully saved.\n"
     ]
    },
    {
     "name": "stderr",
     "output_type": "stream",
     "text": [
      "Scraping Page 21 : 100%|██████████| 20/20 [01:12<00:00,  3.62s/dive site]\n"
     ]
    },
    {
     "name": "stdout",
     "output_type": "stream",
     "text": [
      "Data from page 21 successfully saved.\n"
     ]
    },
    {
     "name": "stderr",
     "output_type": "stream",
     "text": [
      "Scraping Page 22 : 100%|██████████| 20/20 [01:17<00:00,  3.90s/dive site]\n"
     ]
    },
    {
     "name": "stdout",
     "output_type": "stream",
     "text": [
      "Data from page 22 successfully saved.\n"
     ]
    },
    {
     "name": "stderr",
     "output_type": "stream",
     "text": [
      "Scraping Page 23 : 100%|██████████| 20/20 [01:19<00:00,  3.95s/dive site]\n"
     ]
    },
    {
     "name": "stdout",
     "output_type": "stream",
     "text": [
      "Data from page 23 successfully saved.\n"
     ]
    },
    {
     "name": "stderr",
     "output_type": "stream",
     "text": [
      "Scraping Page 24 : 100%|██████████| 20/20 [01:13<00:00,  3.70s/dive site]\n"
     ]
    },
    {
     "name": "stdout",
     "output_type": "stream",
     "text": [
      "Data from page 24 successfully saved.\n"
     ]
    },
    {
     "name": "stderr",
     "output_type": "stream",
     "text": [
      "Scraping Page 25 : 100%|██████████| 20/20 [01:47<00:00,  5.37s/dive site]\n"
     ]
    },
    {
     "name": "stdout",
     "output_type": "stream",
     "text": [
      "Data from page 25 successfully saved.\n"
     ]
    },
    {
     "name": "stderr",
     "output_type": "stream",
     "text": [
      "Scraping Page 26 : 100%|██████████| 20/20 [01:28<00:00,  4.41s/dive site]\n"
     ]
    },
    {
     "name": "stdout",
     "output_type": "stream",
     "text": [
      "Data from page 26 successfully saved.\n"
     ]
    },
    {
     "name": "stderr",
     "output_type": "stream",
     "text": [
      "Scraping Page 27 : 100%|██████████| 20/20 [01:20<00:00,  4.04s/dive site]\n"
     ]
    },
    {
     "name": "stdout",
     "output_type": "stream",
     "text": [
      "Data from page 27 successfully saved.\n"
     ]
    },
    {
     "name": "stderr",
     "output_type": "stream",
     "text": [
      "Scraping Page 28 : 100%|██████████| 20/20 [01:12<00:00,  3.64s/dive site]\n"
     ]
    },
    {
     "name": "stdout",
     "output_type": "stream",
     "text": [
      "Data from page 28 successfully saved.\n"
     ]
    },
    {
     "name": "stderr",
     "output_type": "stream",
     "text": [
      "Scraping Page 29 : 100%|██████████| 20/20 [01:23<00:00,  4.15s/dive site]\n"
     ]
    },
    {
     "name": "stdout",
     "output_type": "stream",
     "text": [
      "Data from page 29 successfully saved.\n"
     ]
    },
    {
     "name": "stderr",
     "output_type": "stream",
     "text": [
      "Scraping Page 30 : 100%|██████████| 20/20 [01:27<00:00,  4.37s/dive site]\n"
     ]
    },
    {
     "name": "stdout",
     "output_type": "stream",
     "text": [
      "Data from page 30 successfully saved.\n"
     ]
    },
    {
     "name": "stderr",
     "output_type": "stream",
     "text": [
      "Scraping Page 31 : 100%|██████████| 20/20 [01:18<00:00,  3.94s/dive site]\n"
     ]
    },
    {
     "name": "stdout",
     "output_type": "stream",
     "text": [
      "Data from page 31 successfully saved.\n"
     ]
    },
    {
     "name": "stderr",
     "output_type": "stream",
     "text": [
      "Scraping Page 32 : 100%|██████████| 20/20 [01:21<00:00,  4.08s/dive site]\n"
     ]
    },
    {
     "name": "stdout",
     "output_type": "stream",
     "text": [
      "Data from page 32 successfully saved.\n"
     ]
    },
    {
     "name": "stderr",
     "output_type": "stream",
     "text": [
      "Scraping Page 33 : 100%|██████████| 20/20 [01:21<00:00,  4.09s/dive site]\n"
     ]
    },
    {
     "name": "stdout",
     "output_type": "stream",
     "text": [
      "Data from page 33 successfully saved.\n"
     ]
    },
    {
     "name": "stderr",
     "output_type": "stream",
     "text": [
      "Scraping Page 34 : 100%|██████████| 20/20 [01:14<00:00,  3.73s/dive site]\n"
     ]
    },
    {
     "name": "stdout",
     "output_type": "stream",
     "text": [
      "Data from page 34 successfully saved.\n"
     ]
    },
    {
     "name": "stderr",
     "output_type": "stream",
     "text": [
      "Scraping Page 35 : 100%|██████████| 20/20 [01:37<00:00,  4.89s/dive site]\n"
     ]
    },
    {
     "name": "stdout",
     "output_type": "stream",
     "text": [
      "Data from page 35 successfully saved.\n"
     ]
    },
    {
     "name": "stderr",
     "output_type": "stream",
     "text": [
      "Scraping Page 36 : 100%|██████████| 20/20 [01:16<00:00,  3.83s/dive site]\n"
     ]
    },
    {
     "name": "stdout",
     "output_type": "stream",
     "text": [
      "Data from page 36 successfully saved.\n"
     ]
    },
    {
     "name": "stderr",
     "output_type": "stream",
     "text": [
      "Scraping Page 37 :  25%|██▌       | 5/20 [00:56<04:18, 17.24s/dive site]"
     ]
    },
    {
     "name": "stdout",
     "output_type": "stream",
     "text": [
      "Error retrieving data: Message: \n",
      "Stacktrace:\n",
      "\tGetHandleVerifier [0x00007FF744363B05+28005]\n",
      "\t(No symbol) [0x00007FF7442C8400]\n",
      "\t(No symbol) [0x00007FF74416580A]\n",
      "\t(No symbol) [0x00007FF7441B5A3E]\n",
      "\t(No symbol) [0x00007FF7441B5D2C]\n",
      "\t(No symbol) [0x00007FF7441FEA97]\n",
      "\t(No symbol) [0x00007FF7441DBA7F]\n",
      "\t(No symbol) [0x00007FF7441FB8B3]\n",
      "\t(No symbol) [0x00007FF7441DB7E3]\n",
      "\t(No symbol) [0x00007FF7441A75C8]\n",
      "\t(No symbol) [0x00007FF7441A8731]\n",
      "\tGetHandleVerifier [0x00007FF74465647D+3118813]\n",
      "\tGetHandleVerifier [0x00007FF7446A6CD0+3448624]\n",
      "\tGetHandleVerifier [0x00007FF74469CF4D+3408301]\n",
      "\tGetHandleVerifier [0x00007FF74442A45B+841403]\n",
      "\t(No symbol) [0x00007FF7442D345F]\n",
      "\t(No symbol) [0x00007FF7442CF4D4]\n",
      "\t(No symbol) [0x00007FF7442CF66D]\n",
      "\t(No symbol) [0x00007FF7442BEBC9]\n",
      "\tBaseThreadInitThunk [0x00007FF93F24257D+29]\n",
      "\tRtlUserThreadStart [0x00007FF940A4AF08+40]\n",
      "\n"
     ]
    },
    {
     "name": "stderr",
     "output_type": "stream",
     "text": [
      "Scraping Page 37 : 100%|██████████| 20/20 [02:26<00:00,  7.34s/dive site]\n"
     ]
    },
    {
     "name": "stdout",
     "output_type": "stream",
     "text": [
      "Data from page 37 successfully saved.\n"
     ]
    },
    {
     "name": "stderr",
     "output_type": "stream",
     "text": [
      "Scraping Page 38 : 100%|██████████| 20/20 [01:05<00:00,  3.26s/dive site]\n"
     ]
    },
    {
     "name": "stdout",
     "output_type": "stream",
     "text": [
      "Data from page 38 successfully saved.\n"
     ]
    },
    {
     "name": "stderr",
     "output_type": "stream",
     "text": [
      "Scraping Page 39 : 100%|██████████| 20/20 [01:13<00:00,  3.66s/dive site]\n"
     ]
    },
    {
     "name": "stdout",
     "output_type": "stream",
     "text": [
      "Data from page 39 successfully saved.\n"
     ]
    },
    {
     "name": "stderr",
     "output_type": "stream",
     "text": [
      "Scraping Page 40 : 100%|██████████| 20/20 [01:10<00:00,  3.52s/dive site]\n"
     ]
    },
    {
     "name": "stdout",
     "output_type": "stream",
     "text": [
      "Data from page 40 successfully saved.\n"
     ]
    },
    {
     "name": "stderr",
     "output_type": "stream",
     "text": [
      "Scraping Page 41 : 100%|██████████| 20/20 [01:08<00:00,  3.43s/dive site]\n"
     ]
    },
    {
     "name": "stdout",
     "output_type": "stream",
     "text": [
      "Data from page 41 successfully saved.\n"
     ]
    },
    {
     "name": "stderr",
     "output_type": "stream",
     "text": [
      "Scraping Page 42 : 100%|██████████| 20/20 [01:04<00:00,  3.22s/dive site]\n"
     ]
    },
    {
     "name": "stdout",
     "output_type": "stream",
     "text": [
      "Data from page 42 successfully saved.\n"
     ]
    },
    {
     "name": "stderr",
     "output_type": "stream",
     "text": [
      "Scraping Page 43 : 100%|██████████| 20/20 [01:05<00:00,  3.27s/dive site]\n"
     ]
    },
    {
     "name": "stdout",
     "output_type": "stream",
     "text": [
      "Data from page 43 successfully saved.\n"
     ]
    },
    {
     "name": "stderr",
     "output_type": "stream",
     "text": [
      "Scraping Page 44 : 100%|██████████| 20/20 [01:15<00:00,  3.78s/dive site]\n"
     ]
    },
    {
     "name": "stdout",
     "output_type": "stream",
     "text": [
      "Data from page 44 successfully saved.\n"
     ]
    },
    {
     "name": "stderr",
     "output_type": "stream",
     "text": [
      "Scraping Page 45 : 100%|██████████| 20/20 [01:03<00:00,  3.18s/dive site]\n"
     ]
    },
    {
     "name": "stdout",
     "output_type": "stream",
     "text": [
      "Data from page 45 successfully saved.\n"
     ]
    },
    {
     "name": "stderr",
     "output_type": "stream",
     "text": [
      "Scraping Page 46 : 100%|██████████| 20/20 [01:07<00:00,  3.37s/dive site]\n"
     ]
    },
    {
     "name": "stdout",
     "output_type": "stream",
     "text": [
      "Data from page 46 successfully saved.\n"
     ]
    },
    {
     "name": "stderr",
     "output_type": "stream",
     "text": [
      "Scraping Page 47 : 100%|██████████| 20/20 [01:05<00:00,  3.28s/dive site]\n"
     ]
    },
    {
     "name": "stdout",
     "output_type": "stream",
     "text": [
      "Data from page 47 successfully saved.\n"
     ]
    },
    {
     "name": "stderr",
     "output_type": "stream",
     "text": [
      "Scraping Page 48 : 100%|██████████| 20/20 [01:06<00:00,  3.34s/dive site]\n"
     ]
    },
    {
     "name": "stdout",
     "output_type": "stream",
     "text": [
      "Data from page 48 successfully saved.\n"
     ]
    },
    {
     "name": "stderr",
     "output_type": "stream",
     "text": [
      "Scraping Page 49 : 100%|██████████| 20/20 [01:04<00:00,  3.24s/dive site]\n"
     ]
    },
    {
     "name": "stdout",
     "output_type": "stream",
     "text": [
      "Data from page 49 successfully saved.\n"
     ]
    },
    {
     "name": "stderr",
     "output_type": "stream",
     "text": [
      "Scraping Page 50 : 100%|██████████| 20/20 [01:00<00:00,  3.04s/dive site]\n"
     ]
    },
    {
     "name": "stdout",
     "output_type": "stream",
     "text": [
      "Data from page 50 successfully saved.\n"
     ]
    },
    {
     "name": "stderr",
     "output_type": "stream",
     "text": [
      "Scraping Page 51 : 100%|██████████| 20/20 [01:09<00:00,  3.45s/dive site]\n"
     ]
    },
    {
     "name": "stdout",
     "output_type": "stream",
     "text": [
      "Data from page 51 successfully saved.\n"
     ]
    },
    {
     "name": "stderr",
     "output_type": "stream",
     "text": [
      "Scraping Page 52 : 100%|██████████| 20/20 [01:10<00:00,  3.52s/dive site]\n"
     ]
    },
    {
     "name": "stdout",
     "output_type": "stream",
     "text": [
      "Data from page 52 successfully saved.\n"
     ]
    },
    {
     "name": "stderr",
     "output_type": "stream",
     "text": [
      "Scraping Page 53 : 100%|██████████| 20/20 [01:07<00:00,  3.38s/dive site]\n"
     ]
    },
    {
     "name": "stdout",
     "output_type": "stream",
     "text": [
      "Data from page 53 successfully saved.\n"
     ]
    },
    {
     "name": "stderr",
     "output_type": "stream",
     "text": [
      "Scraping Page 54 : 100%|██████████| 20/20 [01:06<00:00,  3.34s/dive site]\n"
     ]
    },
    {
     "name": "stdout",
     "output_type": "stream",
     "text": [
      "Data from page 54 successfully saved.\n"
     ]
    },
    {
     "name": "stderr",
     "output_type": "stream",
     "text": [
      "Scraping Page 55 : 100%|██████████| 20/20 [01:04<00:00,  3.24s/dive site]\n"
     ]
    },
    {
     "name": "stdout",
     "output_type": "stream",
     "text": [
      "Data from page 55 successfully saved.\n"
     ]
    },
    {
     "name": "stderr",
     "output_type": "stream",
     "text": [
      "Scraping Page 56 : 100%|██████████| 20/20 [01:05<00:00,  3.30s/dive site]\n"
     ]
    },
    {
     "name": "stdout",
     "output_type": "stream",
     "text": [
      "Data from page 56 successfully saved.\n"
     ]
    },
    {
     "name": "stderr",
     "output_type": "stream",
     "text": [
      "Scraping Page 57 : 100%|██████████| 20/20 [01:02<00:00,  3.14s/dive site]\n"
     ]
    },
    {
     "name": "stdout",
     "output_type": "stream",
     "text": [
      "Data from page 57 successfully saved.\n"
     ]
    },
    {
     "name": "stderr",
     "output_type": "stream",
     "text": [
      "Scraping Page 58 : 100%|██████████| 20/20 [01:06<00:00,  3.33s/dive site]\n"
     ]
    },
    {
     "name": "stdout",
     "output_type": "stream",
     "text": [
      "Data from page 58 successfully saved.\n"
     ]
    },
    {
     "name": "stderr",
     "output_type": "stream",
     "text": [
      "Scraping Page 59 : 100%|██████████| 20/20 [01:16<00:00,  3.83s/dive site]\n"
     ]
    },
    {
     "name": "stdout",
     "output_type": "stream",
     "text": [
      "Data from page 59 successfully saved.\n"
     ]
    },
    {
     "name": "stderr",
     "output_type": "stream",
     "text": [
      "Scraping Page 60 : 100%|██████████| 20/20 [01:24<00:00,  4.24s/dive site]\n"
     ]
    },
    {
     "name": "stdout",
     "output_type": "stream",
     "text": [
      "Data from page 60 successfully saved.\n"
     ]
    },
    {
     "name": "stderr",
     "output_type": "stream",
     "text": [
      "Scraping Page 61 : 100%|██████████| 20/20 [01:10<00:00,  3.52s/dive site]\n"
     ]
    },
    {
     "name": "stdout",
     "output_type": "stream",
     "text": [
      "Data from page 61 successfully saved.\n"
     ]
    },
    {
     "name": "stderr",
     "output_type": "stream",
     "text": [
      "Scraping Page 62 : 100%|██████████| 20/20 [01:10<00:00,  3.50s/dive site]\n"
     ]
    },
    {
     "name": "stdout",
     "output_type": "stream",
     "text": [
      "Data from page 62 successfully saved.\n"
     ]
    },
    {
     "name": "stderr",
     "output_type": "stream",
     "text": [
      "Scraping Page 63 : 100%|██████████| 20/20 [01:05<00:00,  3.26s/dive site]\n"
     ]
    },
    {
     "name": "stdout",
     "output_type": "stream",
     "text": [
      "Data from page 63 successfully saved.\n"
     ]
    },
    {
     "name": "stderr",
     "output_type": "stream",
     "text": [
      "Scraping Page 64 : 100%|██████████| 20/20 [01:12<00:00,  3.65s/dive site]\n"
     ]
    },
    {
     "name": "stdout",
     "output_type": "stream",
     "text": [
      "Data from page 64 successfully saved.\n"
     ]
    },
    {
     "name": "stderr",
     "output_type": "stream",
     "text": [
      "Scraping Page 65 : 100%|██████████| 20/20 [01:21<00:00,  4.07s/dive site]\n"
     ]
    },
    {
     "name": "stdout",
     "output_type": "stream",
     "text": [
      "Data from page 65 successfully saved.\n"
     ]
    },
    {
     "name": "stderr",
     "output_type": "stream",
     "text": [
      "Scraping Page 66 : 100%|██████████| 20/20 [01:22<00:00,  4.11s/dive site]\n"
     ]
    },
    {
     "name": "stdout",
     "output_type": "stream",
     "text": [
      "Data from page 66 successfully saved.\n"
     ]
    },
    {
     "name": "stderr",
     "output_type": "stream",
     "text": [
      "Scraping Page 67 : 100%|██████████| 20/20 [01:20<00:00,  4.01s/dive site]\n"
     ]
    },
    {
     "name": "stdout",
     "output_type": "stream",
     "text": [
      "Data from page 67 successfully saved.\n"
     ]
    },
    {
     "name": "stderr",
     "output_type": "stream",
     "text": [
      "Scraping Page 68 : 100%|██████████| 20/20 [01:12<00:00,  3.61s/dive site]\n"
     ]
    },
    {
     "name": "stdout",
     "output_type": "stream",
     "text": [
      "Data from page 68 successfully saved.\n"
     ]
    },
    {
     "name": "stderr",
     "output_type": "stream",
     "text": [
      "Scraping Page 69 : 100%|██████████| 20/20 [01:06<00:00,  3.30s/dive site]\n"
     ]
    },
    {
     "name": "stdout",
     "output_type": "stream",
     "text": [
      "Data from page 69 successfully saved.\n"
     ]
    },
    {
     "name": "stderr",
     "output_type": "stream",
     "text": [
      "Scraping Page 70 : 100%|██████████| 20/20 [01:03<00:00,  3.19s/dive site]\n"
     ]
    },
    {
     "name": "stdout",
     "output_type": "stream",
     "text": [
      "Data from page 70 successfully saved.\n"
     ]
    },
    {
     "name": "stderr",
     "output_type": "stream",
     "text": [
      "Scraping Page 71 : 100%|██████████| 20/20 [01:08<00:00,  3.45s/dive site]\n"
     ]
    },
    {
     "name": "stdout",
     "output_type": "stream",
     "text": [
      "Data from page 71 successfully saved.\n"
     ]
    },
    {
     "name": "stderr",
     "output_type": "stream",
     "text": [
      "Scraping Page 72 : 100%|██████████| 20/20 [01:06<00:00,  3.34s/dive site]\n"
     ]
    },
    {
     "name": "stdout",
     "output_type": "stream",
     "text": [
      "Data from page 72 successfully saved.\n"
     ]
    },
    {
     "name": "stderr",
     "output_type": "stream",
     "text": [
      "Scraping Page 73 : 100%|██████████| 20/20 [01:05<00:00,  3.26s/dive site]\n"
     ]
    },
    {
     "name": "stdout",
     "output_type": "stream",
     "text": [
      "Data from page 73 successfully saved.\n"
     ]
    },
    {
     "name": "stderr",
     "output_type": "stream",
     "text": [
      "Scraping Page 74 : 100%|██████████| 20/20 [01:13<00:00,  3.66s/dive site]\n"
     ]
    },
    {
     "name": "stdout",
     "output_type": "stream",
     "text": [
      "Data from page 74 successfully saved.\n"
     ]
    },
    {
     "name": "stderr",
     "output_type": "stream",
     "text": [
      "Scraping Page 75 :  70%|███████   | 14/20 [01:04<00:44,  7.37s/dive site]"
     ]
    },
    {
     "name": "stdout",
     "output_type": "stream",
     "text": [
      "Error retrieving data: Message: \n",
      "Stacktrace:\n",
      "\tGetHandleVerifier [0x00007FF744363B05+28005]\n",
      "\t(No symbol) [0x00007FF7442C8400]\n",
      "\t(No symbol) [0x00007FF74416580A]\n",
      "\t(No symbol) [0x00007FF7441B5A3E]\n",
      "\t(No symbol) [0x00007FF7441B5D2C]\n",
      "\t(No symbol) [0x00007FF7441FEA97]\n",
      "\t(No symbol) [0x00007FF7441DBA7F]\n",
      "\t(No symbol) [0x00007FF7441FB8B3]\n",
      "\t(No symbol) [0x00007FF7441DB7E3]\n",
      "\t(No symbol) [0x00007FF7441A75C8]\n",
      "\t(No symbol) [0x00007FF7441A8731]\n",
      "\tGetHandleVerifier [0x00007FF74465647D+3118813]\n",
      "\tGetHandleVerifier [0x00007FF7446A6CD0+3448624]\n",
      "\tGetHandleVerifier [0x00007FF74469CF4D+3408301]\n",
      "\tGetHandleVerifier [0x00007FF74442A45B+841403]\n",
      "\t(No symbol) [0x00007FF7442D345F]\n",
      "\t(No symbol) [0x00007FF7442CF4D4]\n",
      "\t(No symbol) [0x00007FF7442CF66D]\n",
      "\t(No symbol) [0x00007FF7442BEBC9]\n",
      "\tBaseThreadInitThunk [0x00007FF93F24257D+29]\n",
      "\tRtlUserThreadStart [0x00007FF940A4AF08+40]\n",
      "\n"
     ]
    },
    {
     "name": "stderr",
     "output_type": "stream",
     "text": [
      "Scraping Page 75 : 100%|██████████| 20/20 [01:38<00:00,  4.90s/dive site]\n"
     ]
    },
    {
     "name": "stdout",
     "output_type": "stream",
     "text": [
      "Data from page 75 successfully saved.\n"
     ]
    },
    {
     "name": "stderr",
     "output_type": "stream",
     "text": [
      "Scraping Page 76 : 100%|██████████| 20/20 [01:12<00:00,  3.63s/dive site]\n"
     ]
    },
    {
     "name": "stdout",
     "output_type": "stream",
     "text": [
      "Data from page 76 successfully saved.\n"
     ]
    },
    {
     "name": "stderr",
     "output_type": "stream",
     "text": [
      "Scraping Page 77 : 100%|██████████| 20/20 [01:05<00:00,  3.26s/dive site]\n"
     ]
    },
    {
     "name": "stdout",
     "output_type": "stream",
     "text": [
      "Data from page 77 successfully saved.\n"
     ]
    },
    {
     "name": "stderr",
     "output_type": "stream",
     "text": [
      "Scraping Page 78 : 100%|██████████| 20/20 [01:04<00:00,  3.21s/dive site]\n"
     ]
    },
    {
     "name": "stdout",
     "output_type": "stream",
     "text": [
      "Data from page 78 successfully saved.\n"
     ]
    },
    {
     "name": "stderr",
     "output_type": "stream",
     "text": [
      "Scraping Page 79 : 100%|██████████| 20/20 [01:20<00:00,  4.01s/dive site]\n"
     ]
    },
    {
     "name": "stdout",
     "output_type": "stream",
     "text": [
      "Data from page 79 successfully saved.\n"
     ]
    },
    {
     "name": "stderr",
     "output_type": "stream",
     "text": [
      "Scraping Page 80 : 100%|██████████| 20/20 [01:02<00:00,  3.13s/dive site]\n"
     ]
    },
    {
     "name": "stdout",
     "output_type": "stream",
     "text": [
      "Data from page 80 successfully saved.\n"
     ]
    },
    {
     "name": "stderr",
     "output_type": "stream",
     "text": [
      "Scraping Page 81 : 100%|██████████| 20/20 [01:01<00:00,  3.10s/dive site]\n"
     ]
    },
    {
     "name": "stdout",
     "output_type": "stream",
     "text": [
      "Data from page 81 successfully saved.\n"
     ]
    },
    {
     "name": "stderr",
     "output_type": "stream",
     "text": [
      "Scraping Page 82 : 100%|██████████| 20/20 [01:11<00:00,  3.56s/dive site]\n"
     ]
    },
    {
     "name": "stdout",
     "output_type": "stream",
     "text": [
      "Data from page 82 successfully saved.\n"
     ]
    },
    {
     "name": "stderr",
     "output_type": "stream",
     "text": [
      "Scraping Page 83 : 100%|██████████| 20/20 [01:12<00:00,  3.61s/dive site]\n"
     ]
    },
    {
     "name": "stdout",
     "output_type": "stream",
     "text": [
      "Data from page 83 successfully saved.\n"
     ]
    },
    {
     "name": "stderr",
     "output_type": "stream",
     "text": [
      "Scraping Page 84 : 100%|██████████| 20/20 [01:10<00:00,  3.53s/dive site]\n"
     ]
    },
    {
     "name": "stdout",
     "output_type": "stream",
     "text": [
      "Data from page 84 successfully saved.\n"
     ]
    },
    {
     "name": "stderr",
     "output_type": "stream",
     "text": [
      "Scraping Page 85 : 100%|██████████| 20/20 [01:03<00:00,  3.16s/dive site]\n"
     ]
    },
    {
     "name": "stdout",
     "output_type": "stream",
     "text": [
      "Data from page 85 successfully saved.\n"
     ]
    },
    {
     "name": "stderr",
     "output_type": "stream",
     "text": [
      "Scraping Page 86 : 100%|██████████| 20/20 [01:03<00:00,  3.18s/dive site]\n"
     ]
    },
    {
     "name": "stdout",
     "output_type": "stream",
     "text": [
      "Data from page 86 successfully saved.\n"
     ]
    },
    {
     "name": "stderr",
     "output_type": "stream",
     "text": [
      "Scraping Page 87 : 100%|██████████| 20/20 [01:07<00:00,  3.36s/dive site]\n"
     ]
    },
    {
     "name": "stdout",
     "output_type": "stream",
     "text": [
      "Data from page 87 successfully saved.\n"
     ]
    },
    {
     "name": "stderr",
     "output_type": "stream",
     "text": [
      "Scraping Page 88 : 100%|██████████| 20/20 [01:06<00:00,  3.32s/dive site]\n"
     ]
    },
    {
     "name": "stdout",
     "output_type": "stream",
     "text": [
      "Data from page 88 successfully saved.\n"
     ]
    },
    {
     "name": "stderr",
     "output_type": "stream",
     "text": [
      "Scraping Page 89 : 100%|██████████| 20/20 [01:03<00:00,  3.18s/dive site]\n"
     ]
    },
    {
     "name": "stdout",
     "output_type": "stream",
     "text": [
      "Data from page 89 successfully saved.\n"
     ]
    },
    {
     "name": "stderr",
     "output_type": "stream",
     "text": [
      "Scraping Page 90 : 100%|██████████| 20/20 [01:05<00:00,  3.28s/dive site]\n"
     ]
    },
    {
     "name": "stdout",
     "output_type": "stream",
     "text": [
      "Data from page 90 successfully saved.\n"
     ]
    },
    {
     "name": "stderr",
     "output_type": "stream",
     "text": [
      "Scraping Page 91 : 100%|██████████| 20/20 [01:05<00:00,  3.29s/dive site]\n"
     ]
    },
    {
     "name": "stdout",
     "output_type": "stream",
     "text": [
      "Data from page 91 successfully saved.\n"
     ]
    },
    {
     "name": "stderr",
     "output_type": "stream",
     "text": [
      "Scraping Page 92 : 100%|██████████| 20/20 [01:01<00:00,  3.10s/dive site]\n"
     ]
    },
    {
     "name": "stdout",
     "output_type": "stream",
     "text": [
      "Data from page 92 successfully saved.\n"
     ]
    },
    {
     "name": "stderr",
     "output_type": "stream",
     "text": [
      "Scraping Page 93 : 100%|██████████| 20/20 [01:02<00:00,  3.14s/dive site]\n"
     ]
    },
    {
     "name": "stdout",
     "output_type": "stream",
     "text": [
      "Data from page 93 successfully saved.\n"
     ]
    },
    {
     "name": "stderr",
     "output_type": "stream",
     "text": [
      "Scraping Page 94 : 100%|██████████| 20/20 [01:01<00:00,  3.08s/dive site]\n"
     ]
    },
    {
     "name": "stdout",
     "output_type": "stream",
     "text": [
      "Data from page 94 successfully saved.\n"
     ]
    },
    {
     "name": "stderr",
     "output_type": "stream",
     "text": [
      "Scraping Page 95 : 100%|██████████| 20/20 [01:02<00:00,  3.12s/dive site]\n"
     ]
    },
    {
     "name": "stdout",
     "output_type": "stream",
     "text": [
      "Data from page 95 successfully saved.\n"
     ]
    },
    {
     "name": "stderr",
     "output_type": "stream",
     "text": [
      "Scraping Page 96 : 100%|██████████| 20/20 [01:00<00:00,  3.00s/dive site]\n"
     ]
    },
    {
     "name": "stdout",
     "output_type": "stream",
     "text": [
      "Data from page 96 successfully saved.\n"
     ]
    },
    {
     "name": "stderr",
     "output_type": "stream",
     "text": [
      "Scraping Page 97 : 100%|██████████| 20/20 [01:06<00:00,  3.34s/dive site]\n"
     ]
    },
    {
     "name": "stdout",
     "output_type": "stream",
     "text": [
      "Data from page 97 successfully saved.\n"
     ]
    },
    {
     "name": "stderr",
     "output_type": "stream",
     "text": [
      "Scraping Page 98 : 100%|██████████| 20/20 [01:15<00:00,  3.77s/dive site]\n"
     ]
    },
    {
     "name": "stdout",
     "output_type": "stream",
     "text": [
      "Data from page 98 successfully saved.\n"
     ]
    },
    {
     "name": "stderr",
     "output_type": "stream",
     "text": [
      "Scraping Page 99 : 100%|██████████| 20/20 [01:11<00:00,  3.56s/dive site]\n"
     ]
    },
    {
     "name": "stdout",
     "output_type": "stream",
     "text": [
      "Data from page 99 successfully saved.\n"
     ]
    },
    {
     "name": "stderr",
     "output_type": "stream",
     "text": [
      "Scraping Page 100 : 100%|██████████| 20/20 [01:09<00:00,  3.47s/dive site]\n"
     ]
    },
    {
     "name": "stdout",
     "output_type": "stream",
     "text": [
      "Data from page 100 successfully saved.\n"
     ]
    },
    {
     "name": "stderr",
     "output_type": "stream",
     "text": [
      "Scraping Page 101 : 100%|██████████| 20/20 [01:13<00:00,  3.66s/dive site]\n"
     ]
    },
    {
     "name": "stdout",
     "output_type": "stream",
     "text": [
      "Data from page 101 successfully saved.\n"
     ]
    },
    {
     "name": "stderr",
     "output_type": "stream",
     "text": [
      "Scraping Page 102 : 100%|██████████| 20/20 [01:12<00:00,  3.64s/dive site]\n"
     ]
    },
    {
     "name": "stdout",
     "output_type": "stream",
     "text": [
      "Data from page 102 successfully saved.\n"
     ]
    },
    {
     "name": "stderr",
     "output_type": "stream",
     "text": [
      "Scraping Page 103 : 100%|██████████| 20/20 [01:11<00:00,  3.55s/dive site]\n"
     ]
    },
    {
     "name": "stdout",
     "output_type": "stream",
     "text": [
      "Data from page 103 successfully saved.\n"
     ]
    },
    {
     "name": "stderr",
     "output_type": "stream",
     "text": [
      "Scraping Page 104 : 100%|██████████| 20/20 [01:10<00:00,  3.55s/dive site]\n"
     ]
    },
    {
     "name": "stdout",
     "output_type": "stream",
     "text": [
      "Data from page 104 successfully saved.\n"
     ]
    },
    {
     "name": "stderr",
     "output_type": "stream",
     "text": [
      "Scraping Page 105 : 100%|██████████| 20/20 [01:11<00:00,  3.59s/dive site]\n"
     ]
    },
    {
     "name": "stdout",
     "output_type": "stream",
     "text": [
      "Data from page 105 successfully saved.\n"
     ]
    },
    {
     "name": "stderr",
     "output_type": "stream",
     "text": [
      "Scraping Page 106 : 100%|██████████| 20/20 [01:11<00:00,  3.60s/dive site]\n"
     ]
    },
    {
     "name": "stdout",
     "output_type": "stream",
     "text": [
      "Data from page 106 successfully saved.\n"
     ]
    },
    {
     "name": "stderr",
     "output_type": "stream",
     "text": [
      "Scraping Page 107 : 100%|██████████| 20/20 [01:12<00:00,  3.61s/dive site]\n"
     ]
    },
    {
     "name": "stdout",
     "output_type": "stream",
     "text": [
      "Data from page 107 successfully saved.\n"
     ]
    },
    {
     "name": "stderr",
     "output_type": "stream",
     "text": [
      "Scraping Page 108 : 100%|██████████| 20/20 [01:12<00:00,  3.62s/dive site]\n"
     ]
    },
    {
     "name": "stdout",
     "output_type": "stream",
     "text": [
      "Data from page 108 successfully saved.\n"
     ]
    },
    {
     "name": "stderr",
     "output_type": "stream",
     "text": [
      "Scraping Page 109 : 100%|██████████| 20/20 [01:10<00:00,  3.54s/dive site]\n"
     ]
    },
    {
     "name": "stdout",
     "output_type": "stream",
     "text": [
      "Data from page 109 successfully saved.\n"
     ]
    },
    {
     "name": "stderr",
     "output_type": "stream",
     "text": [
      "Scraping Page 110 : 100%|██████████| 20/20 [01:14<00:00,  3.71s/dive site]\n"
     ]
    },
    {
     "name": "stdout",
     "output_type": "stream",
     "text": [
      "Data from page 110 successfully saved.\n"
     ]
    },
    {
     "name": "stderr",
     "output_type": "stream",
     "text": [
      "Scraping Page 111 : 100%|██████████| 20/20 [01:13<00:00,  3.69s/dive site]\n"
     ]
    },
    {
     "name": "stdout",
     "output_type": "stream",
     "text": [
      "Data from page 111 successfully saved.\n"
     ]
    },
    {
     "name": "stderr",
     "output_type": "stream",
     "text": [
      "Scraping Page 112 : 100%|██████████| 20/20 [01:11<00:00,  3.59s/dive site]\n"
     ]
    },
    {
     "name": "stdout",
     "output_type": "stream",
     "text": [
      "Data from page 112 successfully saved.\n"
     ]
    },
    {
     "name": "stderr",
     "output_type": "stream",
     "text": [
      "Scraping Page 113 : 100%|██████████| 20/20 [01:21<00:00,  4.07s/dive site]\n"
     ]
    },
    {
     "name": "stdout",
     "output_type": "stream",
     "text": [
      "Data from page 113 successfully saved.\n"
     ]
    },
    {
     "name": "stderr",
     "output_type": "stream",
     "text": [
      "Scraping Page 114 : 100%|██████████| 20/20 [01:17<00:00,  3.85s/dive site]\n"
     ]
    },
    {
     "name": "stdout",
     "output_type": "stream",
     "text": [
      "Data from page 114 successfully saved.\n"
     ]
    },
    {
     "name": "stderr",
     "output_type": "stream",
     "text": [
      "Scraping Page 115 : 100%|██████████| 20/20 [01:13<00:00,  3.68s/dive site]\n"
     ]
    },
    {
     "name": "stdout",
     "output_type": "stream",
     "text": [
      "Data from page 115 successfully saved.\n"
     ]
    },
    {
     "name": "stderr",
     "output_type": "stream",
     "text": [
      "Scraping Page 116 : 100%|██████████| 20/20 [01:10<00:00,  3.53s/dive site]\n"
     ]
    },
    {
     "name": "stdout",
     "output_type": "stream",
     "text": [
      "Data from page 116 successfully saved.\n"
     ]
    },
    {
     "name": "stderr",
     "output_type": "stream",
     "text": [
      "Scraping Page 117 : 100%|██████████| 20/20 [01:10<00:00,  3.52s/dive site]\n"
     ]
    },
    {
     "name": "stdout",
     "output_type": "stream",
     "text": [
      "Data from page 117 successfully saved.\n"
     ]
    },
    {
     "name": "stderr",
     "output_type": "stream",
     "text": [
      "Scraping Page 118 : 100%|██████████| 20/20 [01:10<00:00,  3.52s/dive site]\n"
     ]
    },
    {
     "name": "stdout",
     "output_type": "stream",
     "text": [
      "Data from page 118 successfully saved.\n"
     ]
    },
    {
     "name": "stderr",
     "output_type": "stream",
     "text": [
      "Scraping Page 119 : 100%|██████████| 20/20 [01:09<00:00,  3.46s/dive site]\n"
     ]
    },
    {
     "name": "stdout",
     "output_type": "stream",
     "text": [
      "Data from page 119 successfully saved.\n"
     ]
    },
    {
     "name": "stderr",
     "output_type": "stream",
     "text": [
      "Scraping Page 120 : 100%|██████████| 20/20 [01:28<00:00,  4.44s/dive site]\n"
     ]
    },
    {
     "name": "stdout",
     "output_type": "stream",
     "text": [
      "Data from page 120 successfully saved.\n"
     ]
    },
    {
     "name": "stderr",
     "output_type": "stream",
     "text": [
      "Scraping Page 121 : 100%|██████████| 20/20 [01:16<00:00,  3.80s/dive site]\n"
     ]
    },
    {
     "name": "stdout",
     "output_type": "stream",
     "text": [
      "Data from page 121 successfully saved.\n"
     ]
    },
    {
     "name": "stderr",
     "output_type": "stream",
     "text": [
      "Scraping Page 122 : 100%|██████████| 20/20 [01:11<00:00,  3.59s/dive site]\n"
     ]
    },
    {
     "name": "stdout",
     "output_type": "stream",
     "text": [
      "Data from page 122 successfully saved.\n"
     ]
    },
    {
     "name": "stderr",
     "output_type": "stream",
     "text": [
      "Scraping Page 123 : 100%|██████████| 20/20 [01:11<00:00,  3.56s/dive site]\n"
     ]
    },
    {
     "name": "stdout",
     "output_type": "stream",
     "text": [
      "Data from page 123 successfully saved.\n"
     ]
    },
    {
     "name": "stderr",
     "output_type": "stream",
     "text": [
      "Scraping Page 124 : 100%|██████████| 20/20 [01:13<00:00,  3.66s/dive site]\n"
     ]
    },
    {
     "name": "stdout",
     "output_type": "stream",
     "text": [
      "Data from page 124 successfully saved.\n"
     ]
    },
    {
     "name": "stderr",
     "output_type": "stream",
     "text": [
      "Scraping Page 125 : 100%|██████████| 20/20 [01:13<00:00,  3.67s/dive site]\n"
     ]
    },
    {
     "name": "stdout",
     "output_type": "stream",
     "text": [
      "Data from page 125 successfully saved.\n"
     ]
    },
    {
     "name": "stderr",
     "output_type": "stream",
     "text": [
      "Scraping Page 126 : 100%|██████████| 20/20 [01:08<00:00,  3.42s/dive site]\n"
     ]
    },
    {
     "name": "stdout",
     "output_type": "stream",
     "text": [
      "Data from page 126 successfully saved.\n"
     ]
    },
    {
     "name": "stderr",
     "output_type": "stream",
     "text": [
      "Scraping Page 127 : 100%|██████████| 20/20 [01:09<00:00,  3.46s/dive site]\n"
     ]
    },
    {
     "name": "stdout",
     "output_type": "stream",
     "text": [
      "Data from page 127 successfully saved.\n"
     ]
    },
    {
     "name": "stderr",
     "output_type": "stream",
     "text": [
      "Scraping Page 128 : 100%|██████████| 20/20 [01:13<00:00,  3.69s/dive site]\n"
     ]
    },
    {
     "name": "stdout",
     "output_type": "stream",
     "text": [
      "Data from page 128 successfully saved.\n"
     ]
    },
    {
     "name": "stderr",
     "output_type": "stream",
     "text": [
      "Scraping Page 129 : 100%|██████████| 20/20 [01:17<00:00,  3.85s/dive site]\n"
     ]
    },
    {
     "name": "stdout",
     "output_type": "stream",
     "text": [
      "Data from page 129 successfully saved.\n"
     ]
    },
    {
     "name": "stderr",
     "output_type": "stream",
     "text": [
      "Scraping Page 130 : 100%|██████████| 20/20 [01:13<00:00,  3.70s/dive site]\n"
     ]
    },
    {
     "name": "stdout",
     "output_type": "stream",
     "text": [
      "Data from page 130 successfully saved.\n"
     ]
    },
    {
     "name": "stderr",
     "output_type": "stream",
     "text": [
      "Scraping Page 131 : 100%|██████████| 20/20 [01:15<00:00,  3.78s/dive site]\n"
     ]
    },
    {
     "name": "stdout",
     "output_type": "stream",
     "text": [
      "Data from page 131 successfully saved.\n"
     ]
    },
    {
     "name": "stderr",
     "output_type": "stream",
     "text": [
      "Scraping Page 132 : 100%|██████████| 20/20 [01:17<00:00,  3.85s/dive site]\n"
     ]
    },
    {
     "name": "stdout",
     "output_type": "stream",
     "text": [
      "Data from page 132 successfully saved.\n"
     ]
    },
    {
     "name": "stderr",
     "output_type": "stream",
     "text": [
      "Scraping Page 133 : 100%|██████████| 20/20 [01:11<00:00,  3.56s/dive site]\n"
     ]
    },
    {
     "name": "stdout",
     "output_type": "stream",
     "text": [
      "Data from page 133 successfully saved.\n"
     ]
    },
    {
     "name": "stderr",
     "output_type": "stream",
     "text": [
      "Scraping Page 134 : 100%|██████████| 20/20 [01:10<00:00,  3.52s/dive site]\n"
     ]
    },
    {
     "name": "stdout",
     "output_type": "stream",
     "text": [
      "Data from page 134 successfully saved.\n"
     ]
    },
    {
     "name": "stderr",
     "output_type": "stream",
     "text": [
      "Scraping Page 135 : 100%|██████████| 20/20 [01:15<00:00,  3.75s/dive site]\n"
     ]
    },
    {
     "name": "stdout",
     "output_type": "stream",
     "text": [
      "Data from page 135 successfully saved.\n"
     ]
    },
    {
     "name": "stderr",
     "output_type": "stream",
     "text": [
      "Scraping Page 136 : 100%|██████████| 20/20 [01:14<00:00,  3.70s/dive site]\n"
     ]
    },
    {
     "name": "stdout",
     "output_type": "stream",
     "text": [
      "Data from page 136 successfully saved.\n"
     ]
    },
    {
     "name": "stderr",
     "output_type": "stream",
     "text": [
      "Scraping Page 137 : 100%|██████████| 20/20 [01:14<00:00,  3.73s/dive site]\n"
     ]
    },
    {
     "name": "stdout",
     "output_type": "stream",
     "text": [
      "Data from page 137 successfully saved.\n"
     ]
    },
    {
     "name": "stderr",
     "output_type": "stream",
     "text": [
      "Scraping Page 138 : 100%|██████████| 20/20 [01:16<00:00,  3.82s/dive site]\n"
     ]
    },
    {
     "name": "stdout",
     "output_type": "stream",
     "text": [
      "Data from page 138 successfully saved.\n"
     ]
    },
    {
     "name": "stderr",
     "output_type": "stream",
     "text": [
      "Scraping Page 139 : 100%|██████████| 20/20 [01:18<00:00,  3.92s/dive site]\n"
     ]
    },
    {
     "name": "stdout",
     "output_type": "stream",
     "text": [
      "Data from page 139 successfully saved.\n"
     ]
    },
    {
     "name": "stderr",
     "output_type": "stream",
     "text": [
      "Scraping Page 140 : 100%|██████████| 20/20 [01:11<00:00,  3.55s/dive site]\n"
     ]
    },
    {
     "name": "stdout",
     "output_type": "stream",
     "text": [
      "Data from page 140 successfully saved.\n"
     ]
    },
    {
     "name": "stderr",
     "output_type": "stream",
     "text": [
      "Scraping Page 141 : 100%|██████████| 20/20 [01:09<00:00,  3.49s/dive site]\n"
     ]
    },
    {
     "name": "stdout",
     "output_type": "stream",
     "text": [
      "Data from page 141 successfully saved.\n"
     ]
    },
    {
     "name": "stderr",
     "output_type": "stream",
     "text": [
      "Scraping Page 142 : 100%|██████████| 20/20 [01:10<00:00,  3.52s/dive site]\n"
     ]
    },
    {
     "name": "stdout",
     "output_type": "stream",
     "text": [
      "Data from page 142 successfully saved.\n"
     ]
    },
    {
     "name": "stderr",
     "output_type": "stream",
     "text": [
      "Scraping Page 143 : 100%|██████████| 20/20 [01:12<00:00,  3.65s/dive site]\n"
     ]
    },
    {
     "name": "stdout",
     "output_type": "stream",
     "text": [
      "Data from page 143 successfully saved.\n"
     ]
    },
    {
     "name": "stderr",
     "output_type": "stream",
     "text": [
      "Scraping Page 144 : 100%|██████████| 20/20 [01:10<00:00,  3.55s/dive site]\n"
     ]
    },
    {
     "name": "stdout",
     "output_type": "stream",
     "text": [
      "Data from page 144 successfully saved.\n"
     ]
    },
    {
     "name": "stderr",
     "output_type": "stream",
     "text": [
      "Scraping Page 145 : 100%|██████████| 20/20 [01:14<00:00,  3.75s/dive site]\n"
     ]
    },
    {
     "name": "stdout",
     "output_type": "stream",
     "text": [
      "Data from page 145 successfully saved.\n"
     ]
    },
    {
     "name": "stderr",
     "output_type": "stream",
     "text": [
      "Scraping Page 146 : 100%|██████████| 20/20 [01:19<00:00,  3.98s/dive site]\n"
     ]
    },
    {
     "name": "stdout",
     "output_type": "stream",
     "text": [
      "Data from page 146 successfully saved.\n"
     ]
    },
    {
     "name": "stderr",
     "output_type": "stream",
     "text": [
      "Scraping Page 147 : 100%|██████████| 20/20 [01:18<00:00,  3.93s/dive site]\n"
     ]
    },
    {
     "name": "stdout",
     "output_type": "stream",
     "text": [
      "Data from page 147 successfully saved.\n"
     ]
    },
    {
     "name": "stderr",
     "output_type": "stream",
     "text": [
      "Scraping Page 148 : 100%|██████████| 20/20 [01:10<00:00,  3.54s/dive site]\n"
     ]
    },
    {
     "name": "stdout",
     "output_type": "stream",
     "text": [
      "Data from page 148 successfully saved.\n"
     ]
    },
    {
     "name": "stderr",
     "output_type": "stream",
     "text": [
      "Scraping Page 149 : 100%|██████████| 20/20 [01:13<00:00,  3.68s/dive site]\n"
     ]
    },
    {
     "name": "stdout",
     "output_type": "stream",
     "text": [
      "Data from page 149 successfully saved.\n"
     ]
    },
    {
     "name": "stderr",
     "output_type": "stream",
     "text": [
      "Scraping Page 150 : 100%|██████████| 20/20 [01:13<00:00,  3.69s/dive site]\n"
     ]
    },
    {
     "name": "stdout",
     "output_type": "stream",
     "text": [
      "Data from page 150 successfully saved.\n"
     ]
    },
    {
     "name": "stderr",
     "output_type": "stream",
     "text": [
      "Scraping Page 151 : 100%|██████████| 20/20 [01:15<00:00,  3.76s/dive site]\n"
     ]
    },
    {
     "name": "stdout",
     "output_type": "stream",
     "text": [
      "Data from page 151 successfully saved.\n"
     ]
    },
    {
     "name": "stderr",
     "output_type": "stream",
     "text": [
      "Scraping Page 152 : 100%|██████████| 20/20 [01:16<00:00,  3.84s/dive site]\n"
     ]
    },
    {
     "name": "stdout",
     "output_type": "stream",
     "text": [
      "Data from page 152 successfully saved.\n"
     ]
    },
    {
     "name": "stderr",
     "output_type": "stream",
     "text": [
      "Scraping Page 153 : 100%|██████████| 20/20 [01:16<00:00,  3.84s/dive site]\n"
     ]
    },
    {
     "name": "stdout",
     "output_type": "stream",
     "text": [
      "Data from page 153 successfully saved.\n"
     ]
    },
    {
     "name": "stderr",
     "output_type": "stream",
     "text": [
      "Scraping Page 154 : 100%|██████████| 20/20 [01:13<00:00,  3.66s/dive site]\n"
     ]
    },
    {
     "name": "stdout",
     "output_type": "stream",
     "text": [
      "Data from page 154 successfully saved.\n"
     ]
    },
    {
     "name": "stderr",
     "output_type": "stream",
     "text": [
      "Scraping Page 155 : 100%|██████████| 20/20 [01:17<00:00,  3.87s/dive site]\n"
     ]
    },
    {
     "name": "stdout",
     "output_type": "stream",
     "text": [
      "Data from page 155 successfully saved.\n"
     ]
    },
    {
     "name": "stderr",
     "output_type": "stream",
     "text": [
      "Scraping Page 156 : 100%|██████████| 20/20 [01:12<00:00,  3.60s/dive site]\n"
     ]
    },
    {
     "name": "stdout",
     "output_type": "stream",
     "text": [
      "Data from page 156 successfully saved.\n"
     ]
    },
    {
     "name": "stderr",
     "output_type": "stream",
     "text": [
      "Scraping Page 157 : 100%|██████████| 20/20 [01:18<00:00,  3.92s/dive site]\n"
     ]
    },
    {
     "name": "stdout",
     "output_type": "stream",
     "text": [
      "Data from page 157 successfully saved.\n"
     ]
    },
    {
     "name": "stderr",
     "output_type": "stream",
     "text": [
      "Scraping Page 158 : 100%|██████████| 20/20 [01:26<00:00,  4.30s/dive site]\n"
     ]
    },
    {
     "name": "stdout",
     "output_type": "stream",
     "text": [
      "Data from page 158 successfully saved.\n"
     ]
    },
    {
     "name": "stderr",
     "output_type": "stream",
     "text": [
      "Scraping Page 159 : 100%|██████████| 20/20 [01:18<00:00,  3.90s/dive site]\n"
     ]
    },
    {
     "name": "stdout",
     "output_type": "stream",
     "text": [
      "Data from page 159 successfully saved.\n"
     ]
    },
    {
     "name": "stderr",
     "output_type": "stream",
     "text": [
      "Scraping Page 160 : 100%|██████████| 20/20 [01:17<00:00,  3.88s/dive site]\n"
     ]
    },
    {
     "name": "stdout",
     "output_type": "stream",
     "text": [
      "Data from page 160 successfully saved.\n"
     ]
    },
    {
     "name": "stderr",
     "output_type": "stream",
     "text": [
      "Scraping Page 161 : 100%|██████████| 20/20 [01:10<00:00,  3.54s/dive site]\n"
     ]
    },
    {
     "name": "stdout",
     "output_type": "stream",
     "text": [
      "Data from page 161 successfully saved.\n"
     ]
    },
    {
     "name": "stderr",
     "output_type": "stream",
     "text": [
      "Scraping Page 162 : 100%|██████████| 20/20 [01:13<00:00,  3.68s/dive site]\n"
     ]
    },
    {
     "name": "stdout",
     "output_type": "stream",
     "text": [
      "Data from page 162 successfully saved.\n"
     ]
    },
    {
     "name": "stderr",
     "output_type": "stream",
     "text": [
      "Scraping Page 163 : 100%|██████████| 20/20 [01:14<00:00,  3.72s/dive site]\n"
     ]
    },
    {
     "name": "stdout",
     "output_type": "stream",
     "text": [
      "Data from page 163 successfully saved.\n"
     ]
    },
    {
     "name": "stderr",
     "output_type": "stream",
     "text": [
      "Scraping Page 164 : 100%|██████████| 20/20 [01:13<00:00,  3.67s/dive site]\n"
     ]
    },
    {
     "name": "stdout",
     "output_type": "stream",
     "text": [
      "Data from page 164 successfully saved.\n"
     ]
    },
    {
     "name": "stderr",
     "output_type": "stream",
     "text": [
      "Scraping Page 165 : 100%|██████████| 20/20 [01:10<00:00,  3.53s/dive site]\n"
     ]
    },
    {
     "name": "stdout",
     "output_type": "stream",
     "text": [
      "Data from page 165 successfully saved.\n"
     ]
    },
    {
     "name": "stderr",
     "output_type": "stream",
     "text": [
      "Scraping Page 166 : 100%|██████████| 20/20 [01:14<00:00,  3.72s/dive site]\n"
     ]
    },
    {
     "name": "stdout",
     "output_type": "stream",
     "text": [
      "Data from page 166 successfully saved.\n"
     ]
    },
    {
     "name": "stderr",
     "output_type": "stream",
     "text": [
      "Scraping Page 167 : 100%|██████████| 20/20 [01:14<00:00,  3.73s/dive site]\n"
     ]
    },
    {
     "name": "stdout",
     "output_type": "stream",
     "text": [
      "Data from page 167 successfully saved.\n"
     ]
    },
    {
     "name": "stderr",
     "output_type": "stream",
     "text": [
      "Scraping Page 168 : 100%|██████████| 20/20 [01:13<00:00,  3.70s/dive site]\n"
     ]
    },
    {
     "name": "stdout",
     "output_type": "stream",
     "text": [
      "Data from page 168 successfully saved.\n"
     ]
    },
    {
     "name": "stderr",
     "output_type": "stream",
     "text": [
      "Scraping Page 169 : 100%|██████████| 20/20 [01:12<00:00,  3.63s/dive site]\n"
     ]
    },
    {
     "name": "stdout",
     "output_type": "stream",
     "text": [
      "Data from page 169 successfully saved.\n"
     ]
    },
    {
     "name": "stderr",
     "output_type": "stream",
     "text": [
      "Scraping Page 170 : 100%|██████████| 20/20 [01:14<00:00,  3.73s/dive site]\n"
     ]
    },
    {
     "name": "stdout",
     "output_type": "stream",
     "text": [
      "Data from page 170 successfully saved.\n"
     ]
    },
    {
     "name": "stderr",
     "output_type": "stream",
     "text": [
      "Scraping Page 171 : 100%|██████████| 20/20 [01:15<00:00,  3.79s/dive site]\n"
     ]
    },
    {
     "name": "stdout",
     "output_type": "stream",
     "text": [
      "Data from page 171 successfully saved.\n"
     ]
    },
    {
     "name": "stderr",
     "output_type": "stream",
     "text": [
      "Scraping Page 172 : 100%|██████████| 20/20 [01:13<00:00,  3.68s/dive site]\n"
     ]
    },
    {
     "name": "stdout",
     "output_type": "stream",
     "text": [
      "Data from page 172 successfully saved.\n"
     ]
    },
    {
     "name": "stderr",
     "output_type": "stream",
     "text": [
      "Scraping Page 173 : 100%|██████████| 20/20 [01:11<00:00,  3.58s/dive site]\n"
     ]
    },
    {
     "name": "stdout",
     "output_type": "stream",
     "text": [
      "Data from page 173 successfully saved.\n"
     ]
    },
    {
     "name": "stderr",
     "output_type": "stream",
     "text": [
      "Scraping Page 174 : 100%|██████████| 20/20 [01:16<00:00,  3.82s/dive site]\n"
     ]
    },
    {
     "name": "stdout",
     "output_type": "stream",
     "text": [
      "Data from page 174 successfully saved.\n"
     ]
    },
    {
     "name": "stderr",
     "output_type": "stream",
     "text": [
      "Scraping Page 175 : 100%|██████████| 20/20 [01:10<00:00,  3.53s/dive site]\n"
     ]
    },
    {
     "name": "stdout",
     "output_type": "stream",
     "text": [
      "Data from page 175 successfully saved.\n"
     ]
    },
    {
     "name": "stderr",
     "output_type": "stream",
     "text": [
      "Scraping Page 176 : 100%|██████████| 20/20 [01:15<00:00,  3.77s/dive site]\n"
     ]
    },
    {
     "name": "stdout",
     "output_type": "stream",
     "text": [
      "Data from page 176 successfully saved.\n"
     ]
    },
    {
     "name": "stderr",
     "output_type": "stream",
     "text": [
      "Scraping Page 177 : 100%|██████████| 20/20 [01:17<00:00,  3.85s/dive site]\n"
     ]
    },
    {
     "name": "stdout",
     "output_type": "stream",
     "text": [
      "Data from page 177 successfully saved.\n"
     ]
    },
    {
     "name": "stderr",
     "output_type": "stream",
     "text": [
      "Scraping Page 178 : 100%|██████████| 20/20 [01:16<00:00,  3.83s/dive site]\n"
     ]
    },
    {
     "name": "stdout",
     "output_type": "stream",
     "text": [
      "Data from page 178 successfully saved.\n"
     ]
    },
    {
     "name": "stderr",
     "output_type": "stream",
     "text": [
      "Scraping Page 179 : 100%|██████████| 20/20 [01:07<00:00,  3.38s/dive site]\n"
     ]
    },
    {
     "name": "stdout",
     "output_type": "stream",
     "text": [
      "Data from page 179 successfully saved.\n"
     ]
    },
    {
     "name": "stderr",
     "output_type": "stream",
     "text": [
      "Scraping Page 180 : 100%|██████████| 20/20 [01:13<00:00,  3.68s/dive site]\n"
     ]
    },
    {
     "name": "stdout",
     "output_type": "stream",
     "text": [
      "Data from page 180 successfully saved.\n"
     ]
    },
    {
     "name": "stderr",
     "output_type": "stream",
     "text": [
      "Scraping Page 181 : 100%|██████████| 20/20 [01:08<00:00,  3.44s/dive site]\n"
     ]
    },
    {
     "name": "stdout",
     "output_type": "stream",
     "text": [
      "Data from page 181 successfully saved.\n"
     ]
    },
    {
     "name": "stderr",
     "output_type": "stream",
     "text": [
      "Scraping Page 182 : 100%|██████████| 20/20 [01:14<00:00,  3.75s/dive site]\n"
     ]
    },
    {
     "name": "stdout",
     "output_type": "stream",
     "text": [
      "Data from page 182 successfully saved.\n"
     ]
    },
    {
     "name": "stderr",
     "output_type": "stream",
     "text": [
      "Scraping Page 183 : 100%|██████████| 20/20 [01:13<00:00,  3.68s/dive site]\n"
     ]
    },
    {
     "name": "stdout",
     "output_type": "stream",
     "text": [
      "Data from page 183 successfully saved.\n"
     ]
    },
    {
     "name": "stderr",
     "output_type": "stream",
     "text": [
      "Scraping Page 184 : 100%|██████████| 20/20 [01:12<00:00,  3.63s/dive site]\n"
     ]
    },
    {
     "name": "stdout",
     "output_type": "stream",
     "text": [
      "Data from page 184 successfully saved.\n"
     ]
    },
    {
     "name": "stderr",
     "output_type": "stream",
     "text": [
      "Scraping Page 185 : 100%|██████████| 20/20 [01:13<00:00,  3.68s/dive site]\n"
     ]
    },
    {
     "name": "stdout",
     "output_type": "stream",
     "text": [
      "Data from page 185 successfully saved.\n"
     ]
    },
    {
     "name": "stderr",
     "output_type": "stream",
     "text": [
      "Scraping Page 186 : 100%|██████████| 20/20 [01:11<00:00,  3.57s/dive site]\n"
     ]
    },
    {
     "name": "stdout",
     "output_type": "stream",
     "text": [
      "Data from page 186 successfully saved.\n"
     ]
    },
    {
     "name": "stderr",
     "output_type": "stream",
     "text": [
      "Scraping Page 187 : 100%|██████████| 20/20 [01:10<00:00,  3.51s/dive site]\n"
     ]
    },
    {
     "name": "stdout",
     "output_type": "stream",
     "text": [
      "Data from page 187 successfully saved.\n"
     ]
    },
    {
     "name": "stderr",
     "output_type": "stream",
     "text": [
      "Scraping Page 188 : 100%|██████████| 20/20 [01:10<00:00,  3.50s/dive site]\n"
     ]
    },
    {
     "name": "stdout",
     "output_type": "stream",
     "text": [
      "Data from page 188 successfully saved.\n"
     ]
    },
    {
     "name": "stderr",
     "output_type": "stream",
     "text": [
      "Scraping Page 189 : 100%|██████████| 20/20 [01:12<00:00,  3.63s/dive site]\n"
     ]
    },
    {
     "name": "stdout",
     "output_type": "stream",
     "text": [
      "Data from page 189 successfully saved.\n"
     ]
    },
    {
     "name": "stderr",
     "output_type": "stream",
     "text": [
      "Scraping Page 190 : 100%|██████████| 20/20 [01:10<00:00,  3.51s/dive site]\n"
     ]
    },
    {
     "name": "stdout",
     "output_type": "stream",
     "text": [
      "Data from page 190 successfully saved.\n"
     ]
    },
    {
     "name": "stderr",
     "output_type": "stream",
     "text": [
      "Scraping Page 191 : 100%|██████████| 20/20 [01:16<00:00,  3.81s/dive site]\n"
     ]
    },
    {
     "name": "stdout",
     "output_type": "stream",
     "text": [
      "Data from page 191 successfully saved.\n"
     ]
    },
    {
     "name": "stderr",
     "output_type": "stream",
     "text": [
      "Scraping Page 192 : 100%|██████████| 20/20 [01:11<00:00,  3.57s/dive site]\n"
     ]
    },
    {
     "name": "stdout",
     "output_type": "stream",
     "text": [
      "Data from page 192 successfully saved.\n"
     ]
    },
    {
     "name": "stderr",
     "output_type": "stream",
     "text": [
      "Scraping Page 193 : 100%|██████████| 20/20 [01:12<00:00,  3.63s/dive site]\n"
     ]
    },
    {
     "name": "stdout",
     "output_type": "stream",
     "text": [
      "Data from page 193 successfully saved.\n"
     ]
    },
    {
     "name": "stderr",
     "output_type": "stream",
     "text": [
      "Scraping Page 194 : 100%|██████████| 20/20 [01:10<00:00,  3.54s/dive site]\n"
     ]
    },
    {
     "name": "stdout",
     "output_type": "stream",
     "text": [
      "Data from page 194 successfully saved.\n"
     ]
    },
    {
     "name": "stderr",
     "output_type": "stream",
     "text": [
      "Scraping Page 195 : 100%|██████████| 20/20 [01:28<00:00,  4.42s/dive site]\n"
     ]
    },
    {
     "name": "stdout",
     "output_type": "stream",
     "text": [
      "Data from page 195 successfully saved.\n"
     ]
    },
    {
     "name": "stderr",
     "output_type": "stream",
     "text": [
      "Scraping Page 196 : 100%|██████████| 20/20 [01:38<00:00,  4.92s/dive site]\n"
     ]
    },
    {
     "name": "stdout",
     "output_type": "stream",
     "text": [
      "Data from page 196 successfully saved.\n"
     ]
    },
    {
     "name": "stderr",
     "output_type": "stream",
     "text": [
      "Scraping Page 197 : 100%|██████████| 20/20 [01:24<00:00,  4.25s/dive site]\n"
     ]
    },
    {
     "name": "stdout",
     "output_type": "stream",
     "text": [
      "Data from page 197 successfully saved.\n"
     ]
    },
    {
     "name": "stderr",
     "output_type": "stream",
     "text": [
      "Scraping Page 198 : 100%|██████████| 20/20 [01:31<00:00,  4.59s/dive site]\n"
     ]
    },
    {
     "name": "stdout",
     "output_type": "stream",
     "text": [
      "Data from page 198 successfully saved.\n"
     ]
    },
    {
     "name": "stderr",
     "output_type": "stream",
     "text": [
      "Scraping Page 199 : 100%|██████████| 20/20 [01:29<00:00,  4.46s/dive site]\n"
     ]
    },
    {
     "name": "stdout",
     "output_type": "stream",
     "text": [
      "Data from page 199 successfully saved.\n"
     ]
    },
    {
     "name": "stderr",
     "output_type": "stream",
     "text": [
      "Scraping Page 200 : 100%|██████████| 20/20 [01:28<00:00,  4.41s/dive site]\n"
     ]
    },
    {
     "name": "stdout",
     "output_type": "stream",
     "text": [
      "Data from page 200 successfully saved.\n"
     ]
    },
    {
     "name": "stderr",
     "output_type": "stream",
     "text": [
      "Scraping Page 201 : 100%|██████████| 20/20 [01:23<00:00,  4.20s/dive site]\n"
     ]
    },
    {
     "name": "stdout",
     "output_type": "stream",
     "text": [
      "Data from page 201 successfully saved.\n"
     ]
    },
    {
     "name": "stderr",
     "output_type": "stream",
     "text": [
      "Scraping Page 202 : 100%|██████████| 20/20 [01:24<00:00,  4.23s/dive site]\n"
     ]
    },
    {
     "name": "stdout",
     "output_type": "stream",
     "text": [
      "Data from page 202 successfully saved.\n"
     ]
    },
    {
     "name": "stderr",
     "output_type": "stream",
     "text": [
      "Scraping Page 203 : 100%|██████████| 20/20 [01:13<00:00,  3.65s/dive site]\n"
     ]
    },
    {
     "name": "stdout",
     "output_type": "stream",
     "text": [
      "Data from page 203 successfully saved.\n"
     ]
    },
    {
     "name": "stderr",
     "output_type": "stream",
     "text": [
      "Scraping Page 204 : 100%|██████████| 20/20 [01:34<00:00,  4.73s/dive site]\n"
     ]
    },
    {
     "name": "stdout",
     "output_type": "stream",
     "text": [
      "Data from page 204 successfully saved.\n"
     ]
    },
    {
     "name": "stderr",
     "output_type": "stream",
     "text": [
      "Scraping Page 205 : 100%|██████████| 20/20 [01:16<00:00,  3.84s/dive site]\n"
     ]
    },
    {
     "name": "stdout",
     "output_type": "stream",
     "text": [
      "Data from page 205 successfully saved.\n"
     ]
    },
    {
     "name": "stderr",
     "output_type": "stream",
     "text": [
      "Scraping Page 206 : 100%|██████████| 20/20 [01:20<00:00,  4.01s/dive site]\n"
     ]
    },
    {
     "name": "stdout",
     "output_type": "stream",
     "text": [
      "Data from page 206 successfully saved.\n"
     ]
    },
    {
     "name": "stderr",
     "output_type": "stream",
     "text": [
      "Scraping Page 207 : 100%|██████████| 20/20 [01:25<00:00,  4.30s/dive site]\n"
     ]
    },
    {
     "name": "stdout",
     "output_type": "stream",
     "text": [
      "Data from page 207 successfully saved.\n"
     ]
    },
    {
     "name": "stderr",
     "output_type": "stream",
     "text": [
      "Scraping Page 208 : 100%|██████████| 20/20 [01:34<00:00,  4.70s/dive site]\n"
     ]
    },
    {
     "name": "stdout",
     "output_type": "stream",
     "text": [
      "Data from page 208 successfully saved.\n"
     ]
    },
    {
     "name": "stderr",
     "output_type": "stream",
     "text": [
      "Scraping Page 209 : 100%|██████████| 20/20 [01:24<00:00,  4.23s/dive site]\n"
     ]
    },
    {
     "name": "stdout",
     "output_type": "stream",
     "text": [
      "Data from page 209 successfully saved.\n"
     ]
    },
    {
     "name": "stderr",
     "output_type": "stream",
     "text": [
      "Scraping Page 210 : 100%|██████████| 20/20 [01:22<00:00,  4.12s/dive site]\n"
     ]
    },
    {
     "name": "stdout",
     "output_type": "stream",
     "text": [
      "Data from page 210 successfully saved.\n"
     ]
    },
    {
     "name": "stderr",
     "output_type": "stream",
     "text": [
      "Scraping Page 211 : 100%|██████████| 20/20 [01:19<00:00,  3.96s/dive site]\n"
     ]
    },
    {
     "name": "stdout",
     "output_type": "stream",
     "text": [
      "Data from page 211 successfully saved.\n"
     ]
    },
    {
     "name": "stderr",
     "output_type": "stream",
     "text": [
      "Scraping Page 212 : 100%|██████████| 20/20 [01:42<00:00,  5.12s/dive site]\n"
     ]
    },
    {
     "name": "stdout",
     "output_type": "stream",
     "text": [
      "Data from page 212 successfully saved.\n"
     ]
    },
    {
     "name": "stderr",
     "output_type": "stream",
     "text": [
      "Scraping Page 213 : 100%|██████████| 20/20 [01:40<00:00,  5.04s/dive site]\n"
     ]
    },
    {
     "name": "stdout",
     "output_type": "stream",
     "text": [
      "Data from page 213 successfully saved.\n"
     ]
    },
    {
     "name": "stderr",
     "output_type": "stream",
     "text": [
      "Scraping Page 214 : 100%|██████████| 20/20 [01:29<00:00,  4.49s/dive site]\n"
     ]
    },
    {
     "name": "stdout",
     "output_type": "stream",
     "text": [
      "Data from page 214 successfully saved.\n"
     ]
    },
    {
     "name": "stderr",
     "output_type": "stream",
     "text": [
      "Scraping Page 215 : 100%|██████████| 20/20 [01:29<00:00,  4.49s/dive site]\n"
     ]
    },
    {
     "name": "stdout",
     "output_type": "stream",
     "text": [
      "Data from page 215 successfully saved.\n"
     ]
    },
    {
     "name": "stderr",
     "output_type": "stream",
     "text": [
      "Scraping Page 216 : 100%|██████████| 20/20 [01:29<00:00,  4.48s/dive site]\n"
     ]
    },
    {
     "name": "stdout",
     "output_type": "stream",
     "text": [
      "Data from page 216 successfully saved.\n"
     ]
    },
    {
     "name": "stderr",
     "output_type": "stream",
     "text": [
      "Scraping Page 217 : 100%|██████████| 20/20 [01:52<00:00,  5.62s/dive site]\n"
     ]
    },
    {
     "name": "stdout",
     "output_type": "stream",
     "text": [
      "Data from page 217 successfully saved.\n"
     ]
    },
    {
     "name": "stderr",
     "output_type": "stream",
     "text": [
      "Scraping Page 218 : 100%|██████████| 20/20 [01:52<00:00,  5.62s/dive site]\n"
     ]
    },
    {
     "name": "stdout",
     "output_type": "stream",
     "text": [
      "Data from page 218 successfully saved.\n"
     ]
    },
    {
     "name": "stderr",
     "output_type": "stream",
     "text": [
      "Scraping Page 219 : 100%|██████████| 20/20 [01:16<00:00,  3.84s/dive site]\n"
     ]
    },
    {
     "name": "stdout",
     "output_type": "stream",
     "text": [
      "Data from page 219 successfully saved.\n"
     ]
    },
    {
     "name": "stderr",
     "output_type": "stream",
     "text": [
      "Scraping Page 220 : 100%|██████████| 20/20 [01:22<00:00,  4.13s/dive site]\n"
     ]
    },
    {
     "name": "stdout",
     "output_type": "stream",
     "text": [
      "Data from page 220 successfully saved.\n"
     ]
    },
    {
     "name": "stderr",
     "output_type": "stream",
     "text": [
      "Scraping Page 221 : 100%|██████████| 20/20 [01:10<00:00,  3.55s/dive site]\n"
     ]
    },
    {
     "name": "stdout",
     "output_type": "stream",
     "text": [
      "Data from page 221 successfully saved.\n",
      "Scraping complete.\n"
     ]
    }
   ],
   "source": [
    "from selenium import webdriver\n",
    "from selenium.webdriver.chrome.service import Service\n",
    "from selenium.webdriver.common.by import By\n",
    "from selenium.webdriver.support.ui import WebDriverWait\n",
    "from selenium.webdriver.support import expected_conditions as EC\n",
    "from tqdm import tqdm  # For progress display\n",
    "import pandas as pd\n",
    "import time\n",
    "import os\n",
    "\n",
    "# Options for headless operation\n",
    "options = webdriver.ChromeOptions()\n",
    "options.add_argument(\"--headless\")  # Enable headless mode\n",
    "options.add_argument(\"--no-sandbox\")  # (optional) to improve stability\n",
    "options.add_argument(\"--disable-dev-shm-usage\")  # (optional) to avoid memory issues\n",
    "\n",
    "# Initialize WebDriver\n",
    "driver = webdriver.Chrome(options=options)\n",
    "driver.maximize_window()\n",
    "\n",
    "initial = 0\n",
    "\n",
    "# Base URL for the PADI dive site page\n",
    "base_url = \"https://www.padi.com/dive-sites/all/\"\n",
    "\n",
    "# Excel file path\n",
    "excel_file_path = \"dive_sites_details.xlsx\"\n",
    "\n",
    "# Loop through pages\n",
    "for page in range(1, 222):  # Example: First 9 pages\n",
    "    url = f\"{base_url}?page={page}\"\n",
    "    driver.get(url)\n",
    "    WebDriverWait(driver, 10).until(\n",
    "        EC.presence_of_element_located((By.CLASS_NAME, \"container--vQkgc\"))\n",
    "    )\n",
    "\n",
    "    # Close cookie banner if present\n",
    "    try:\n",
    "        # Switch to iframe\n",
    "        if initial == 0:\n",
    "            cookies = driver.find_element(By.TAG_NAME, \"iframe\")\n",
    "        \n",
    "            driver.switch_to.frame(driver.find_element(By.TAG_NAME, \"iframe\"))\n",
    "            \n",
    "            # Click on the cookie consent button\n",
    "            cookie_button = driver.find_element(By.CLASS_NAME, \"call\")\n",
    "            cookie_button.click()\n",
    "            time.sleep(1)\n",
    "\n",
    "            # Switch back to the main document\n",
    "            driver.switch_to.default_content()\n",
    "            initial = 1\n",
    "    except Exception as e:\n",
    "        e=e\n",
    "\n",
    "    # Collect links to dive sites\n",
    "    dive_site_links = driver.find_elements(By.CLASS_NAME, \"container--vQkgc\")\n",
    "    links = [link.get_attribute(\"href\") for link in dive_site_links]\n",
    "    \n",
    "    # Temporary list to store data for the current page\n",
    "    current_page_data = []\n",
    "\n",
    "    for link in tqdm(links, desc=f\"Scraping Page {page} \", position=0, unit=\"dive site\"):\n",
    "        try:\n",
    "            driver.get(link)  # Click on the dive site link\n",
    "            WebDriverWait(driver, 10).until(\n",
    "                EC.presence_of_element_located((By.CLASS_NAME, \"dive-site-header__title\"))\n",
    "            )\n",
    "\n",
    "\n",
    "            # Extract data (title and link)\n",
    "            title = driver.find_element(By.CLASS_NAME, \"dive-site-header__title\").text.strip()\n",
    "            \n",
    "            # Extract Description  \n",
    "            description = ''\n",
    "            try:          \n",
    "                description = driver.find_element(By.CLASS_NAME, \"dive-site-overview__content-description\").text.strip()\n",
    "            except Exception as e:\n",
    "                e = e\n",
    "            \n",
    "            # Extract rating\n",
    "            try:\n",
    "                rating = driver.find_element(By.CLASS_NAME, \"rating__percentage\").text.strip()\n",
    "            except Exception as e:\n",
    "                rating = None\n",
    "\n",
    "            # Collect images\n",
    "            images = driver.find_element(By.CLASS_NAME, \"collage-photos\")\n",
    "            image_link = None\n",
    "\n",
    "            try:\n",
    "                if images is not None:\n",
    "                    try:\n",
    "                        image_element = images.find_element(By.CSS_SELECTOR, \"div[data-index='0'] img\")\n",
    "                        if image_element is not None:\n",
    "                            image_link = image_element.get_attribute(\"src\")\n",
    "                    except:\n",
    "                        image_element = images.find_element(By.CSS_SELECTOR, \"img[data-index='0']\")\n",
    "                        if image_element is not None:\n",
    "                            image_link = image_element.get_attribute(\"src\")\n",
    "            except Exception as e:\n",
    "                image_link = None\n",
    "\n",
    "            # Collect additional information\n",
    "            location, dive_types, common_sightings, max_depth = None, '', '', None\n",
    "            metrics = driver.find_elements(By.CLASS_NAME, \"dive-site-overview__content-metric__description\")\n",
    "            try:\n",
    "                for metric in metrics:\n",
    "                    title_text = metric.find_element(By.CLASS_NAME, \"dive-site-overview__content-metric__title\").text.strip()\n",
    "                    subtitle_text = metric.find_elements(By.CLASS_NAME, \"dive-site-overview__content-metric__subtitle\")\n",
    "                    \n",
    "                    for subtitle in subtitle_text:\n",
    "                        if title_text == \"Location\":\n",
    "                            location = subtitle.text.strip()\n",
    "                        elif title_text == \"Dive Types\":\n",
    "                            dive_types = subtitle.text.strip() if dive_types == '' else f\"{dive_types}, {subtitle.text.strip()}\"\n",
    "                        elif title_text == \"Common Sightings\":\n",
    "                            common_sightings = subtitle.text.strip() if common_sightings == '' else f\"{common_sightings}, {subtitle.text.strip()}\"\n",
    "                        elif title_text == \"Maximum Depth\":\n",
    "                            max_depth = subtitle.text.strip()\n",
    "            except Exception as e:\n",
    "                e=e\n",
    "                        \n",
    "            element = {\n",
    "                \"URL\": link,\n",
    "                \"Title\": title,\n",
    "                \"Description\": description,\n",
    "                \"Location\": location,\n",
    "                \"Dive Types\": dive_types,\n",
    "                \"Common Sightings\": common_sightings,\n",
    "                \"Maximum Depth\": max_depth,\n",
    "                \"Rating\": rating,\n",
    "                \"Image\": image_link\n",
    "            }\n",
    "\n",
    "            # Save the data\n",
    "            current_page_data.append(element)\n",
    "\n",
    "        except Exception as e:\n",
    "            print(f\"Error retrieving data: {e}\")\n",
    "\n",
    "    # Append the current page's data to the Excel file\n",
    "    df = pd.DataFrame(current_page_data)\n",
    "    if os.path.exists(excel_file_path):\n",
    "        with pd.ExcelWriter(excel_file_path, mode='a', if_sheet_exists=\"overlay\", engine=\"openpyxl\") as writer:\n",
    "            df.to_excel(writer, index=False, header=False, startrow=writer.sheets['Sheet1'].max_row)\n",
    "    else:\n",
    "        df.to_excel(excel_file_path, index=False)\n",
    "\n",
    "    print(f\"Data from page {page} successfully saved.\")\n",
    "\n",
    "# Close the WebDriver\n",
    "driver.quit()\n",
    "print(\"Scraping complete.\")"
   ]
  }
 ],
 "metadata": {
  "kernelspec": {
   "display_name": "Python 3",
   "language": "python",
   "name": "python3"
  },
  "language_info": {
   "codemirror_mode": {
    "name": "ipython",
    "version": 3
   },
   "file_extension": ".py",
   "mimetype": "text/x-python",
   "name": "python",
   "nbconvert_exporter": "python",
   "pygments_lexer": "ipython3",
   "version": "3.12.8"
  }
 },
 "nbformat": 4,
 "nbformat_minor": 2
}
